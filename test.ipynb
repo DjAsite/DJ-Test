{
 "cells": [
  {
   "cell_type": "code",
   "execution_count": null,
   "id": "1efc691f",
   "metadata": {
    "vscode": {
     "languageId": "plaintext"
    }
   },
   "outputs": [],
   "source": [
    "print(\"dd\")\n",
    "print(\"dd\")\n",
    "print(\"dd\")\n",
    "print(\"dd\")"
   ]
  }
 ],
 "metadata": {
  "language_info": {
   "name": "python"
  }
 },
 "nbformat": 4,
 "nbformat_minor": 5
}
